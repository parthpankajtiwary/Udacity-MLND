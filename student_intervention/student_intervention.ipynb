{
 "cells": [
  {
   "cell_type": "markdown",
   "metadata": {},
   "source": [
    "# Machine Learning Engineer Nanodegree\n",
    "## Supervised Learning\n",
    "## Project 2: Building a Student Intervention System"
   ]
  },
  {
   "cell_type": "markdown",
   "metadata": {},
   "source": [
    "Welcome to the second project of the Machine Learning Engineer Nanodegree! In this notebook, some template code has already been provided for you, and it will be your job to implement the additional functionality necessary to successfully complete this project. Sections that begin with **'Implementation'** in the header indicate that the following block of code will require additional functionality which you must provide. Instructions will be provided for each section and the specifics of the implementation are marked in the code block with a `'TODO'` statement. Please be sure to read the instructions carefully!\n",
    "\n",
    "In addition to implementing code, there will be questions that you must answer which relate to the project and your implementation. Each section where you will answer a question is preceded by a **'Question X'** header. Carefully read each question and provide thorough answers in the following text boxes that begin with **'Answer:'**. Your project submission will be evaluated based on your answers to each of the questions and the implementation you provide.  \n",
    "\n",
    ">**Note:** Code and Markdown cells can be executed using the **Shift + Enter** keyboard shortcut. In addition, Markdown cells can be edited by typically double-clicking the cell to enter edit mode."
   ]
  },
  {
   "cell_type": "markdown",
   "metadata": {},
   "source": [
    "### Question 1 - Classification vs. Regression\n",
    "*Your goal for this project is to identify students who might need early intervention before they fail to graduate. Which type of supervised learning problem is this, classification or regression? Why?*"
   ]
  },
  {
   "cell_type": "markdown",
   "metadata": {},
   "source": [
    "**Answer: Well, this is a classification problem, we need to classify the students into two classes actually, one class for the students who will do fine(graduate without supervision or intervention) and do not need any intervention before they graduate, and another class will be of the students who need early intervention before they fail to graduate. So, this is a classification problem, with two classes.**"
   ]
  },
  {
   "cell_type": "markdown",
   "metadata": {},
   "source": [
    "## Exploring the Data\n",
    "Run the code cell below to load necessary Python libraries and load the student data. Note that the last column from this dataset, `'passed'`, will be our target label (whether the student graduated or didn't graduate). All other columns are features about each student."
   ]
  },
  {
   "cell_type": "code",
   "execution_count": 29,
   "metadata": {
    "collapsed": false
   },
   "outputs": [
    {
     "name": "stdout",
     "output_type": "stream",
     "text": [
      "Student data read successfully!\n"
     ]
    }
   ],
   "source": [
    "# Import libraries\n",
    "import numpy as np\n",
    "import pandas as pd\n",
    "from time import time\n",
    "from sklearn.metrics import f1_score\n",
    "\n",
    "# Read student data\n",
    "student_data = pd.read_csv(\"student-data.csv\")\n",
    "print \"Student data read successfully!\""
   ]
  },
  {
   "cell_type": "markdown",
   "metadata": {},
   "source": [
    "### Implementation: Data Exploration\n",
    "Let's begin by investigating the dataset to determine how many students we have information on, and learn about the graduation rate among these students. In the code cell below, you will need to compute the following:\n",
    "- The total number of students, `n_students`.\n",
    "- The total number of features for each student, `n_features`.\n",
    "- The number of those students who passed, `n_passed`.\n",
    "- The number of those students who failed, `n_failed`.\n",
    "- The graduation rate of the class, `grad_rate`, in percent (%).\n"
   ]
  },
  {
   "cell_type": "code",
   "execution_count": 30,
   "metadata": {
    "collapsed": false
   },
   "outputs": [
    {
     "data": {
      "text/plain": [
       "Index([u'school', u'sex', u'age', u'address', u'famsize', u'Pstatus', u'Medu',\n",
       "       u'Fedu', u'Mjob', u'Fjob', u'reason', u'guardian', u'traveltime',\n",
       "       u'studytime', u'failures', u'schoolsup', u'famsup', u'paid',\n",
       "       u'activities', u'nursery', u'higher', u'internet', u'romantic',\n",
       "       u'famrel', u'freetime', u'goout', u'Dalc', u'Walc', u'health',\n",
       "       u'absences', u'passed'],\n",
       "      dtype='object')"
      ]
     },
     "execution_count": 30,
     "metadata": {},
     "output_type": "execute_result"
    }
   ],
   "source": [
    "student_data.columns"
   ]
  },
  {
   "cell_type": "code",
   "execution_count": 31,
   "metadata": {
    "collapsed": false
   },
   "outputs": [
    {
     "name": "stdout",
     "output_type": "stream",
     "text": [
      "Total number of students: 395\n",
      "Number of features: 30\n",
      "Number of students who passed: 265\n",
      "Number of students who failed: 130\n",
      "Graduation rate of the class: 67.09%\n"
     ]
    }
   ],
   "source": [
    "# TODO: Calculate number of students\n",
    "n_students = len(student_data)\n",
    "\n",
    "# TODO: Calculate number of features\n",
    "n_features = student_data.shape[1] - 1\n",
    "\n",
    "# TODO: Calculate passing students\n",
    "n_passed = sum([1 for x in student_data['passed'] if x == \"yes\"])\n",
    "\n",
    "# TODO: Calculate failing students\n",
    "n_failed = sum([1 for x in student_data['passed'] if x == \"no\"])\n",
    "\n",
    "# TODO: Calculate graduation rate\n",
    "grad_rate = float(n_passed)/n_students*100\n",
    "\n",
    "# Print the results\n",
    "print \"Total number of students: {}\".format(n_students)\n",
    "print \"Number of features: {}\".format(n_features)\n",
    "print \"Number of students who passed: {}\".format(n_passed)\n",
    "print \"Number of students who failed: {}\".format(n_failed)\n",
    "print \"Graduation rate of the class: {:.2f}%\".format(grad_rate)"
   ]
  },
  {
   "cell_type": "markdown",
   "metadata": {},
   "source": [
    "## Preparing the Data\n",
    "In this section, we will prepare the data for modeling, training and testing.\n",
    "\n",
    "### Identify feature and target columns\n",
    "It is often the case that the data you obtain contains non-numeric features. This can be a problem, as most machine learning algorithms expect numeric data to perform computations with.\n",
    "\n",
    "Run the code cell below to separate the student data into feature and target columns to see if any features are non-numeric."
   ]
  },
  {
   "cell_type": "code",
   "execution_count": 32,
   "metadata": {
    "collapsed": false
   },
   "outputs": [
    {
     "name": "stdout",
     "output_type": "stream",
     "text": [
      "Feature columns:\n",
      "['school', 'sex', 'age', 'address', 'famsize', 'Pstatus', 'Medu', 'Fedu', 'Mjob', 'Fjob', 'reason', 'guardian', 'traveltime', 'studytime', 'failures', 'schoolsup', 'famsup', 'paid', 'activities', 'nursery', 'higher', 'internet', 'romantic', 'famrel', 'freetime', 'goout', 'Dalc', 'Walc', 'health', 'absences']\n",
      "\n",
      "Target column: passed\n",
      "\n",
      "Feature values:\n",
      "  school sex  age address famsize Pstatus  Medu  Fedu     Mjob      Fjob  \\\n",
      "0     GP   F   18       U     GT3       A     4     4  at_home   teacher   \n",
      "1     GP   F   17       U     GT3       T     1     1  at_home     other   \n",
      "2     GP   F   15       U     LE3       T     1     1  at_home     other   \n",
      "3     GP   F   15       U     GT3       T     4     2   health  services   \n",
      "4     GP   F   16       U     GT3       T     3     3    other     other   \n",
      "\n",
      "    ...    higher internet  romantic  famrel  freetime goout Dalc Walc health  \\\n",
      "0   ...       yes       no        no       4         3     4    1    1      3   \n",
      "1   ...       yes      yes        no       5         3     3    1    1      3   \n",
      "2   ...       yes      yes        no       4         3     2    2    3      3   \n",
      "3   ...       yes      yes       yes       3         2     2    1    1      5   \n",
      "4   ...       yes       no        no       4         3     2    1    2      5   \n",
      "\n",
      "  absences  \n",
      "0        6  \n",
      "1        4  \n",
      "2       10  \n",
      "3        2  \n",
      "4        4  \n",
      "\n",
      "[5 rows x 30 columns]\n"
     ]
    }
   ],
   "source": [
    "# Extract feature columns\n",
    "feature_cols = list(student_data.columns[:-1])\n",
    "\n",
    "# Extract target column 'passed'\n",
    "target_col = student_data.columns[-1] \n",
    "\n",
    "# Show the list of columns\n",
    "print \"Feature columns:\\n{}\".format(feature_cols)\n",
    "print \"\\nTarget column: {}\".format(target_col)\n",
    "\n",
    "# Separate the data into feature data and target data (X_all and y_all, respectively)\n",
    "X_all = student_data[feature_cols]\n",
    "y_all = student_data[target_col]\n",
    "\n",
    "# Show the feature information by printing the first five rows\n",
    "print \"\\nFeature values:\"\n",
    "print X_all.head()"
   ]
  },
  {
   "cell_type": "markdown",
   "metadata": {},
   "source": [
    "### Preprocess Feature Columns\n",
    "\n",
    "As you can see, there are several non-numeric columns that need to be converted! Many of them are simply `yes`/`no`, e.g. `internet`. These can be reasonably converted into `1`/`0` (binary) values.\n",
    "\n",
    "Other columns, like `Mjob` and `Fjob`, have more than two values, and are known as _categorical variables_. The recommended way to handle such a column is to create as many columns as possible values (e.g. `Fjob_teacher`, `Fjob_other`, `Fjob_services`, etc.), and assign a `1` to one of them and `0` to all others.\n",
    "\n",
    "These generated columns are sometimes called _dummy variables_, and we will use the [`pandas.get_dummies()`](http://pandas.pydata.org/pandas-docs/stable/generated/pandas.get_dummies.html?highlight=get_dummies#pandas.get_dummies) function to perform this transformation. Run the code cell below to perform the preprocessing routine discussed in this section."
   ]
  },
  {
   "cell_type": "code",
   "execution_count": 33,
   "metadata": {
    "collapsed": false
   },
   "outputs": [
    {
     "name": "stdout",
     "output_type": "stream",
     "text": [
      "Processed feature columns (48 total features):\n",
      "['school_GP', 'school_MS', 'sex_F', 'sex_M', 'age', 'address_R', 'address_U', 'famsize_GT3', 'famsize_LE3', 'Pstatus_A', 'Pstatus_T', 'Medu', 'Fedu', 'Mjob_at_home', 'Mjob_health', 'Mjob_other', 'Mjob_services', 'Mjob_teacher', 'Fjob_at_home', 'Fjob_health', 'Fjob_other', 'Fjob_services', 'Fjob_teacher', 'reason_course', 'reason_home', 'reason_other', 'reason_reputation', 'guardian_father', 'guardian_mother', 'guardian_other', 'traveltime', 'studytime', 'failures', 'schoolsup', 'famsup', 'paid', 'activities', 'nursery', 'higher', 'internet', 'romantic', 'famrel', 'freetime', 'goout', 'Dalc', 'Walc', 'health', 'absences']\n"
     ]
    }
   ],
   "source": [
    "def preprocess_features(X):\n",
    "    ''' Preprocesses the student data and converts non-numeric binary variables into\n",
    "        binary (0/1) variables. Converts categorical variables into dummy variables. '''\n",
    "    \n",
    "    # Initialize new output DataFrame\n",
    "    output = pd.DataFrame(index = X.index)\n",
    "\n",
    "    # Investigate each feature column for the data\n",
    "    for col, col_data in X.iteritems():\n",
    "        \n",
    "        # If data type is non-numeric, replace all yes/no values with 1/0\n",
    "        if col_data.dtype == object:\n",
    "            col_data = col_data.replace(['yes', 'no'], [1, 0])\n",
    "\n",
    "        # If data type is categorical, convert to dummy variables\n",
    "        if col_data.dtype == object:\n",
    "            # Example: 'school' => 'school_GP' and 'school_MS'\n",
    "            col_data = pd.get_dummies(col_data, prefix = col)  \n",
    "        \n",
    "        # Collect the revised columns\n",
    "        output = output.join(col_data)\n",
    "    \n",
    "    return output\n",
    "\n",
    "X_all = preprocess_features(X_all)\n",
    "print \"Processed feature columns ({} total features):\\n{}\".format(len(X_all.columns), list(X_all.columns))"
   ]
  },
  {
   "cell_type": "markdown",
   "metadata": {},
   "source": [
    "### Implementation: Training and Testing Data Split\n",
    "So far, we have converted all _categorical_ features into numeric values. For the next step, we split the data (both features and corresponding labels) into training and test sets. In the following code cell below, you will need to implement the following:\n",
    "- Randomly shuffle and split the data (`X_all`, `y_all`) into training and testing subsets.\n",
    "  - Use 300 training points (approximately 75%) and 95 testing points (approximately 25%).\n",
    "  - Set a `random_state` for the function(s) you use, if provided.\n",
    "  - Store the results in `X_train`, `X_test`, `y_train`, and `y_test`."
   ]
  },
  {
   "cell_type": "code",
   "execution_count": 34,
   "metadata": {
    "collapsed": false
   },
   "outputs": [
    {
     "name": "stdout",
     "output_type": "stream",
     "text": [
      "Training set has 300 samples.\n",
      "Testing set has 95 samples.\n"
     ]
    }
   ],
   "source": [
    "# TODO: Import any additional functionality you may need here\n",
    "from sklearn.cross_validation import train_test_split\n",
    "# TODO: Set the number of training points\n",
    "num_train = 300\n",
    "\n",
    "# Set the number of testing points\n",
    "num_test = X_all.shape[0] - num_train\n",
    "\n",
    "# TODO: Shuffle and split the dataset into the number of training and testing points above\n",
    "X_train, X_test, y_train, y_test = train_test_split(X_all, y_all, test_size=95, random_state=42, stratify=y_all)\n",
    "\n",
    "# Show the results of the split\n",
    "print \"Training set has {} samples.\".format(X_train.shape[0])\n",
    "print \"Testing set has {} samples.\".format(X_test.shape[0])"
   ]
  },
  {
   "cell_type": "code",
   "execution_count": 35,
   "metadata": {
    "collapsed": false
   },
   "outputs": [
    {
     "name": "stdout",
     "output_type": "stream",
     "text": [
      "     school_GP  school_MS  sex_F  sex_M  age  address_R  address_U  \\\n",
      "273        1.0        0.0    0.0    1.0   17        1.0        0.0   \n",
      "265        1.0        0.0    0.0    1.0   18        1.0        0.0   \n",
      "64         1.0        0.0    1.0    0.0   15        0.0        1.0   \n",
      "131        1.0        0.0    1.0    0.0   15        0.0        1.0   \n",
      "122        1.0        0.0    1.0    0.0   16        0.0        1.0   \n",
      "25         1.0        0.0    1.0    0.0   16        0.0        1.0   \n",
      "191        1.0        0.0    1.0    0.0   17        0.0        1.0   \n",
      "195        1.0        0.0    1.0    0.0   17        0.0        1.0   \n",
      "277        1.0        0.0    0.0    1.0   18        0.0        1.0   \n",
      "39         1.0        0.0    1.0    0.0   15        1.0        0.0   \n",
      "9          1.0        0.0    0.0    1.0   15        0.0        1.0   \n",
      "81         1.0        0.0    0.0    1.0   15        0.0        1.0   \n",
      "360        0.0        1.0    1.0    0.0   18        1.0        0.0   \n",
      "29         1.0        0.0    0.0    1.0   16        0.0        1.0   \n",
      "60         1.0        0.0    1.0    0.0   16        1.0        0.0   \n",
      "301        1.0        0.0    0.0    1.0   17        0.0        1.0   \n",
      "372        0.0        1.0    1.0    0.0   17        0.0        1.0   \n",
      "375        0.0        1.0    1.0    0.0   18        1.0        0.0   \n",
      "129        1.0        0.0    0.0    1.0   16        1.0        0.0   \n",
      "24         1.0        0.0    1.0    0.0   15        1.0        0.0   \n",
      "93         1.0        0.0    1.0    0.0   16        0.0        1.0   \n",
      "378        0.0        1.0    1.0    0.0   18        0.0        1.0   \n",
      "361        0.0        1.0    0.0    1.0   18        1.0        0.0   \n",
      "28         1.0        0.0    0.0    1.0   16        0.0        1.0   \n",
      "209        1.0        0.0    1.0    0.0   17        1.0        0.0   \n",
      "262        1.0        0.0    0.0    1.0   18        1.0        0.0   \n",
      "20         1.0        0.0    0.0    1.0   15        0.0        1.0   \n",
      "351        0.0        1.0    0.0    1.0   17        0.0        1.0   \n",
      "5          1.0        0.0    0.0    1.0   16        0.0        1.0   \n",
      "296        1.0        0.0    1.0    0.0   19        0.0        1.0   \n",
      "..         ...        ...    ...    ...  ...        ...        ...   \n",
      "219        1.0        0.0    1.0    0.0   17        0.0        1.0   \n",
      "192        1.0        0.0    0.0    1.0   17        0.0        1.0   \n",
      "379        0.0        1.0    1.0    0.0   17        1.0        0.0   \n",
      "132        1.0        0.0    1.0    0.0   17        0.0        1.0   \n",
      "238        1.0        0.0    1.0    0.0   17        1.0        0.0   \n",
      "391        0.0        1.0    0.0    1.0   17        0.0        1.0   \n",
      "68         1.0        0.0    1.0    0.0   15        1.0        0.0   \n",
      "120        1.0        0.0    1.0    0.0   15        0.0        1.0   \n",
      "149        1.0        0.0    0.0    1.0   15        0.0        1.0   \n",
      "229        1.0        0.0    1.0    0.0   17        0.0        1.0   \n",
      "35         1.0        0.0    1.0    0.0   15        0.0        1.0   \n",
      "217        1.0        0.0    0.0    1.0   18        0.0        1.0   \n",
      "100        1.0        0.0    0.0    1.0   16        0.0        1.0   \n",
      "261        1.0        0.0    0.0    1.0   18        0.0        1.0   \n",
      "319        1.0        0.0    1.0    0.0   18        0.0        1.0   \n",
      "90         1.0        0.0    1.0    0.0   16        0.0        1.0   \n",
      "230        1.0        0.0    1.0    0.0   17        0.0        1.0   \n",
      "342        1.0        0.0    0.0    1.0   18        0.0        1.0   \n",
      "216        1.0        0.0    1.0    0.0   17        0.0        1.0   \n",
      "236        1.0        0.0    0.0    1.0   17        0.0        1.0   \n",
      "74         1.0        0.0    1.0    0.0   16        0.0        1.0   \n",
      "285        1.0        0.0    0.0    1.0   17        0.0        1.0   \n",
      "274        1.0        0.0    1.0    0.0   17        0.0        1.0   \n",
      "184        1.0        0.0    1.0    0.0   16        0.0        1.0   \n",
      "244        1.0        0.0    1.0    0.0   18        0.0        1.0   \n",
      "112        1.0        0.0    1.0    0.0   16        0.0        1.0   \n",
      "105        1.0        0.0    1.0    0.0   15        0.0        1.0   \n",
      "334        1.0        0.0    1.0    0.0   18        1.0        0.0   \n",
      "326        1.0        0.0    0.0    1.0   17        0.0        1.0   \n",
      "267        1.0        0.0    1.0    0.0   18        1.0        0.0   \n",
      "\n",
      "     famsize_GT3  famsize_LE3  Pstatus_A    ...     higher  internet  \\\n",
      "273          1.0          0.0        0.0    ...          1         0   \n",
      "265          0.0          1.0        1.0    ...          1         1   \n",
      "64           0.0          1.0        0.0    ...          1         1   \n",
      "131          1.0          0.0        0.0    ...          1         1   \n",
      "122          0.0          1.0        0.0    ...          1         1   \n",
      "25           1.0          0.0        0.0    ...          1         1   \n",
      "191          1.0          0.0        0.0    ...          1         1   \n",
      "195          0.0          1.0        0.0    ...          1         1   \n",
      "277          1.0          0.0        0.0    ...          1         1   \n",
      "39           1.0          0.0        0.0    ...          1         0   \n",
      "9            1.0          0.0        0.0    ...          1         1   \n",
      "81           1.0          0.0        0.0    ...          1         1   \n",
      "360          0.0          1.0        1.0    ...          1         0   \n",
      "29           1.0          0.0        0.0    ...          1         1   \n",
      "60           1.0          0.0        0.0    ...          1         0   \n",
      "301          0.0          1.0        0.0    ...          1         1   \n",
      "372          1.0          0.0        0.0    ...          1         0   \n",
      "375          1.0          0.0        0.0    ...          1         1   \n",
      "129          1.0          0.0        0.0    ...          1         1   \n",
      "24           1.0          0.0        0.0    ...          1         1   \n",
      "93           1.0          0.0        0.0    ...          1         1   \n",
      "378          1.0          0.0        0.0    ...          1         1   \n",
      "361          0.0          1.0        0.0    ...          0         0   \n",
      "28           0.0          1.0        1.0    ...          1         1   \n",
      "209          1.0          0.0        0.0    ...          1         1   \n",
      "262          1.0          0.0        0.0    ...          1         0   \n",
      "20           1.0          0.0        0.0    ...          1         1   \n",
      "351          1.0          0.0        0.0    ...          1         1   \n",
      "5            0.0          1.0        0.0    ...          1         1   \n",
      "296          1.0          0.0        0.0    ...          1         1   \n",
      "..           ...          ...        ...    ...        ...       ...   \n",
      "219          1.0          0.0        0.0    ...          1         1   \n",
      "192          1.0          0.0        0.0    ...          1         1   \n",
      "379          1.0          0.0        0.0    ...          1         1   \n",
      "132          0.0          1.0        0.0    ...          1         1   \n",
      "238          1.0          0.0        0.0    ...          1         0   \n",
      "391          0.0          1.0        0.0    ...          1         1   \n",
      "68           0.0          1.0        0.0    ...          1         1   \n",
      "120          1.0          0.0        0.0    ...          1         1   \n",
      "149          0.0          1.0        1.0    ...          1         1   \n",
      "229          1.0          0.0        1.0    ...          1         1   \n",
      "35           1.0          0.0        0.0    ...          1         0   \n",
      "217          0.0          1.0        0.0    ...          1         1   \n",
      "100          1.0          0.0        0.0    ...          1         1   \n",
      "261          1.0          0.0        0.0    ...          1         1   \n",
      "319          1.0          0.0        0.0    ...          1         1   \n",
      "90           1.0          0.0        0.0    ...          1         1   \n",
      "230          0.0          1.0        0.0    ...          1         1   \n",
      "342          0.0          1.0        0.0    ...          1         1   \n",
      "216          1.0          0.0        0.0    ...          1         1   \n",
      "236          0.0          1.0        0.0    ...          1         1   \n",
      "74           1.0          0.0        0.0    ...          1         1   \n",
      "285          1.0          0.0        0.0    ...          1         1   \n",
      "274          1.0          0.0        0.0    ...          1         1   \n",
      "184          1.0          0.0        0.0    ...          1         1   \n",
      "244          1.0          0.0        0.0    ...          1         1   \n",
      "112          1.0          0.0        0.0    ...          1         1   \n",
      "105          1.0          0.0        1.0    ...          1         0   \n",
      "334          1.0          0.0        0.0    ...          1         0   \n",
      "326          1.0          0.0        0.0    ...          1         1   \n",
      "267          1.0          0.0        0.0    ...          1         1   \n",
      "\n",
      "     romantic  famrel  freetime  goout  Dalc  Walc  health  absences  \n",
      "273         1       3         5      2     2     2       1         2  \n",
      "265         0       4         2      5     3     4       1        13  \n",
      "64          1       4         4      4     2     4       2         0  \n",
      "131         1       4         3      3     1     2       4         0  \n",
      "122         1       4         2      2     1     2       5         2  \n",
      "25          0       1         2      2     1     3       5        14  \n",
      "191         0       5         3      3     1     1       3         0  \n",
      "195         1       4         3      2     1     1       5         0  \n",
      "277         0       3         2      4     1     4       3        22  \n",
      "39          0       4         3      1     1     1       2         8  \n",
      "9           0       5         5      1     1     1       5         0  \n",
      "81          0       5         3      2     1     2       5         4  \n",
      "360         1       4         3      4     1     4       5         0  \n",
      "29          1       4         4      5     5     5       5        16  \n",
      "60          0       2         4      4     2     3       4         6  \n",
      "301         0       4         1      1     2     2       5         0  \n",
      "372         1       3         4      3     1     1       3         8  \n",
      "375         0       4         3      2     1     2       4         2  \n",
      "129         0       3         5      5     2     5       4         8  \n",
      "24          0       4         3      2     1     1       5         2  \n",
      "93          0       5         3      3     1     1       1         0  \n",
      "378         1       4         1      3     1     2       1         0  \n",
      "361         0       4         4      3     2     3       5         2  \n",
      "28          0       5         3      3     1     1       5         4  \n",
      "209         1       4         4      2     1     1       4         6  \n",
      "262         0       5         3      2     1     1       3         1  \n",
      "20          0       4         4      1     1     1       1         0  \n",
      "351         0       4         5      4     2     3       3         2  \n",
      "5           0       5         4      2     1     2       5        10  \n",
      "296         0       2         3      4     2     3       2         0  \n",
      "..        ...     ...       ...    ...   ...   ...     ...       ...  \n",
      "219         0       4         3      3     1     1       4         4  \n",
      "192         0       4         4      4     4     5       5        12  \n",
      "379         0       4         5      4     2     3       1        17  \n",
      "132         1       3         4      4     1     3       5        12  \n",
      "238         0       2         1      1     1     1       3         2  \n",
      "391         0       2         4      5     3     4       2         3  \n",
      "68          0       4         1      3     1     3       4         2  \n",
      "120         0       3         2      3     1     2       1         2  \n",
      "149         0       4         5      5     2     5       5         0  \n",
      "229         1       3         2      3     1     2       3        10  \n",
      "35          0       3         5      1     1     1       5         0  \n",
      "217         0       3         2      4     2     4       4        13  \n",
      "100         0       4         5      5     5     5       4        14  \n",
      "261         0       4         3      2     1     1       3         2  \n",
      "319         0       4         4      4     3     3       5         2  \n",
      "90          1       4         3      3     1     3       4         0  \n",
      "230         1       3         2      3     1     2       3        14  \n",
      "342         1       4         3      3     1     3       5        11  \n",
      "216         1       3         4      5     2     4       1        22  \n",
      "236         1       4         4      2     5     5       4         4  \n",
      "74          0       4         3      3     2     4       5        54  \n",
      "285         0       4         3      3     1     2       4         2  \n",
      "274         1       4         3      3     1     1       1         2  \n",
      "184         0       1         2      2     1     2       1        14  \n",
      "244         1       4         4      4     1     1       3         0  \n",
      "112         0       3         1      2     1     1       5         6  \n",
      "105         0       4         3      3     1     1       4        10  \n",
      "334         0       4         4      4     1     1       4         0  \n",
      "326         0       4         3      5     3     5       5         3  \n",
      "267         0       4         3      4     2     2       4         8  \n",
      "\n",
      "[100 rows x 48 columns]\n"
     ]
    }
   ],
   "source": [
    "print X_train[:100]"
   ]
  },
  {
   "cell_type": "markdown",
   "metadata": {},
   "source": [
    "## Training and Evaluating Models\n",
    "In this section, you will choose 3 supervised learning models that are appropriate for this problem and available in `scikit-learn`. You will first discuss the reasoning behind choosing these three models by considering what you know about the data and each model's strengths and weaknesses. You will then fit the model to varying sizes of training data (100 data points, 200 data points, and 300 data points) and measure the F<sub>1</sub> score. You will need to produce three tables (one for each model) that shows the training set size, training time, prediction time, F<sub>1</sub> score on the training set, and F<sub>1</sub> score on the testing set.\n",
    "\n",
    "**The following supervised learning models are currently available in** [`scikit-learn`](http://scikit-learn.org/stable/supervised_learning.html) **that you may choose from:**\n",
    "- Gaussian Naive Bayes (GaussianNB)\n",
    "- Decision Trees\n",
    "- Ensemble Methods (Bagging, AdaBoost, Random Forest, Gradient Boosting)\n",
    "- K-Nearest Neighbors (KNeighbors)\n",
    "- Stochastic Gradient Descent (SGDC)\n",
    "- Support Vector Machines (SVM)\n",
    "- Logistic Regression"
   ]
  },
  {
   "cell_type": "markdown",
   "metadata": {},
   "source": [
    "### Question 2 - Model Application\n",
    "*List three supervised learning models that are appropriate for this problem. For each model chosen*\n",
    "- Describe one real-world application in industry where the model can be applied. *(You may need to do a small bit of research for this — give references!)* \n",
    "- What are the strengths of the model; when does it perform well? \n",
    "- What are the weaknesses of the model; when does it perform poorly?\n",
    "- What makes this model a good candidate for the problem, given what you know about the data?"
   ]
  },
  {
   "cell_type": "markdown",
   "metadata": {},
   "source": [
    "**Answer:** \n",
    "**1) Logistic Regression** \n",
    "\n",
    "**a) Describe one real-world application in industry where the model can be applied. (You may need to do a small bit of research for this — give references!)**\n",
    "\n",
    "\n",
    "Toward Probabilistic Diagnosis and Understanding of Depression Based on Functional MRI Data Analysis with Logistic Group LASSO(https://www.researchgate.net/publication/275957623_Toward_Probabilistic_Diagnosis_and_Understanding_of_Depression_Based_on_Functional_MRI_Data_Analysis_with_Logistic_Group_LASSO)\n",
    "\n",
    "\n",
    "**b) What are the strengths of the model; when does it perform well?**\n",
    "\n",
    "Logistic Regression is a well behaved as far as the features are linear, or even if some functions are ot linear they can be easily converted to linear features using feature engineering.\n",
    "\n",
    "Logistic Regression is robust to the noise, and overfitting can be prevented using L1, L2 regularization.\n",
    "\n",
    "As Logistic Regression gives out probabilities, and based on the probabilities and the given threshold it decides to which class the instance belongs, so it can be useful in the tasks when we have to rank the instances or want to know how strongly or weakly some instance belongs to which class.\n",
    "\n",
    "Logistic Regression can also be scaled well and used with Big Data, since it is efficient.\n",
    "\n",
    "Logistic Regression performs well, in cases of binary classifications, and where most of the features are linear, or can be turned into linear features using feature engineering. L1 and L2 regularization can be used to avoid overfitting. \n",
    "\n",
    "\n",
    "**c) What are the weaknesses of the model; when does it perform poorly?**\n",
    "\n",
    "The fact that logistic regression is linear, so it cannot fit non-linear data.\n",
    "\n",
    "**d) What makes this model a good candidate for the problem, given what you know about the data?**\n",
    "\n",
    "For classification problem, and specially binary classification problem, Logistic Regression can always serve as a baseline to start of with, because of the way it is well behaves, the way it responds to noise, and scalability, it can be futher regularized using L1 or L2 penalty. As this is a binary classification problem, I think, logistic regression can serve as a good baseline model, and most probably can perform at par with other models if tuned properly. \n",
    "\n",
    "**2) Support Vector Machine** \n",
    "\n",
    "**a) Describe one real-world application in industry where the model can be applied. (You may need to do a small bit of research for this — give references!)**\n",
    "\n",
    "The support vector machine (SVM) algorithm (Boser et al., 1992; Vapnik, 1998) is a classification algorithm that provides state-of-the-art performance in a wide variety of application domains, including handwriting recognition, object recognition, speaker identification, face detection and text categorization (Cristianini and Shawe-Taylor, 2000). During the past three years, SVMs have been applied very broadly within the field of computational biology, to pattern recognition problems including protein remote homology detection, microarray gene expression analysis, recognition of translation start sites, functional classification of promoter regions, prediction of protein-protein interactions, and peptide identification from mass spectrometry data. (http://noble.gs.washington.edu/papers/noble_support.pdf)\n",
    "\n",
    "**b) What are the strengths of the model; when does it perform well?**\n",
    "\n",
    "Support Vector Machine has a parameter for regularization, which can again as in the case of logistic regression, can avoid overfitting.\n",
    "\n",
    "Support Vector Machine has a kernal which can be changed(or rather a lot of options for kernal are available in sklearn) to fit the data in a better way. SVM can also be used to deal with data which is not linearly separable by changing the kernal. \n",
    "\n",
    "Support Vector Machine uses hinge loss function which punishes the classifier for mis-classification, which helps in determining the margins.\n",
    "\n",
    "**c) What are the weaknesses of the model; when does it perform poorly?**\n",
    "\n",
    "Support Vector Machine is fundamentally a binary classifier, and it is not very likely to perform very well on multi-class classification problems. It struggles if decision boundaries are not very well defined.\n",
    "\n",
    "Support Vector Machine with a linear kernal is not very different than the logistic regression. \n",
    "\n",
    "Support Vector Machine cannot be trained very efficiently. So, it will not work well on a last training data.\n",
    "\n",
    "**d) What makes this model a good candidate for the problem, given what you know about the data?**\n",
    "\n",
    "The problem that we have at hand currently is a binary classification problem, it has two classes to which the students belong, SVM is a binary classifier, we use SVM after logistic regression because if the training data we have at hand is not linearly separable then we can use SVM with 'rbf' kernal to even train on the non-linear data. One of the major weaknesses of SVM is that it is hard to train over a large training set, but in this problem our training set is not large(about 300 training points), so training a SVM classifier would not be so difficult. \n",
    "\n",
    "\n",
    "**3) K-Nearest Neighbors**\n",
    "\n",
    "**a) Describe one real-world application in industry where the model can be applied. (You may need to do a small bit of research for this — give references!)**\n",
    "\n",
    "One of the industrial application of K-nearest neighbor can be in recommended system. When you know the likes and dislikes of users, and you have one new user and a record of his behaviour, you would want to cluster this user to the other users who had similar likes a dislikes. It can be recommending movies on Netflix, products on amazon, of suggest videos or songs on websites like youtube.\n",
    "\n",
    "**b) What are the strengths of the model; when does it perform well?**\n",
    "\n",
    "One of the major strengths of k-nearest neigbors model over the other two models would be its training time, as it is instance based learning, it practically takes no time in training, with respect to the other two models we are using for this problem(Logistic Regression, and SVM). \n",
    "\n",
    "K-nearest neighbors is also a very simple algorithm, it can be used with different similarity measures(distance metrics).\n",
    "\n",
    "K-nearest neighbors can also learn complex models easily because of the simplicity of this algorithm.\n",
    "\n",
    "**c) What are the weaknesses of the model; when does it perform poorly?**\n",
    "\n",
    "One of the major weaknesses of k-nearest neighbors model is the kind memory it would require to store all the instances of the data. In the problem we have at hand the dataset is rather small, it only has 300 instances, but if it would have been a large data set, it would require memory of the similar order in order to store the training data.\n",
    "\n",
    "The testing time of k-nearest neighbors can be large as compared to all the other models that we are using, as all the computations are done while making predictions.\n",
    "\n",
    "It doesn't perform so well when the number of features are large. \n",
    "\n",
    "**d) What makes this model a good candidate for the problem, given what you know about the data?**\n",
    "\n",
    "K-nearest neighbors model can put up a good comparison given the other two models we are using i.e. Logistic Regression and SVM. \n"
   ]
  },
  {
   "cell_type": "markdown",
   "metadata": {},
   "source": [
    "### Setup\n",
    "Run the code cell below to initialize three helper functions which you can use for training and testing the three supervised learning models you've chosen above. The functions are as follows:\n",
    "- `train_classifier` - takes as input a classifier and training data and fits the classifier to the data.\n",
    "- `predict_labels` - takes as input a fit classifier, features, and a target labeling and makes predictions using the F<sub>1</sub> score.\n",
    "- `train_predict` - takes as input a classifier, and the training and testing data, and performs `train_clasifier` and `predict_labels`.\n",
    " - This function will report the F<sub>1</sub> score for both the training and testing data separately."
   ]
  },
  {
   "cell_type": "code",
   "execution_count": 36,
   "metadata": {
    "collapsed": false
   },
   "outputs": [],
   "source": [
    "def train_classifier(clf, X_train, y_train):\n",
    "    ''' Fits a classifier to the training data. '''\n",
    "    \n",
    "    # Start the clock, train the classifier, then stop the clock\n",
    "    start = time()\n",
    "    clf.fit(X_train, y_train)\n",
    "    end = time()\n",
    "    \n",
    "    # Print the results\n",
    "    print \"Trained model in {:.4f} seconds\".format(end - start)\n",
    "\n",
    "    \n",
    "def predict_labels(clf, features, target):\n",
    "    ''' Makes predictions using a fit classifier based on F1 score. '''\n",
    "    \n",
    "    # Start the clock, make predictions, then stop the clock\n",
    "    start = time()\n",
    "    y_pred = clf.predict(features)\n",
    "    end = time()\n",
    "    \n",
    "    # Print and return results\n",
    "    print \"Made predictions in {:.4f} seconds.\".format(end - start)\n",
    "    return f1_score(target.values, y_pred, pos_label='yes')\n",
    "\n",
    "\n",
    "def train_predict(clf, X_train, y_train, X_test, y_test):\n",
    "    ''' Train and predict using a classifer based on F1 score. '''\n",
    "    \n",
    "    # Indicate the classifier and the training set size\n",
    "    print \"Training a {} using a training set size of {}. . .\".format(clf.__class__.__name__, len(X_train))\n",
    "    \n",
    "    # Train the classifier\n",
    "    train_classifier(clf, X_train, y_train)\n",
    "    \n",
    "    # Print the results of prediction for both training and testing\n",
    "    print \"F1 score for training set: {:.4f}.\".format(predict_labels(clf, X_train, y_train))\n",
    "    print \"F1 score for test set: {:.4f}.\".format(predict_labels(clf, X_test, y_test))"
   ]
  },
  {
   "cell_type": "markdown",
   "metadata": {},
   "source": [
    "### Implementation: Model Performance Metrics\n",
    "With the predefined functions above, you will now import the three supervised learning models of your choice and run the `train_predict` function for each one. Remember that you will need to train and predict on each classifier for three different training set sizes: 100, 200, and 300. Hence, you should expect to have 9 different outputs below — 3 for each model using the varying training set sizes. In the following code cell, you will need to implement the following:\n",
    "- Import the three supervised learning models you've discussed in the previous section.\n",
    "- Initialize the three models and store them in `clf_A`, `clf_B`, and `clf_C`.\n",
    " - Use a `random_state` for each model you use, if provided.\n",
    " - **Note:** Use the default settings for each model — you will tune one specific model in a later section.\n",
    "- Create the different training set sizes to be used to train each model.\n",
    " - *Do not reshuffle and resplit the data! The new training points should be drawn from `X_train` and `y_train`.*\n",
    "- Fit each model with each training set size and make predictions on the test set (9 in total).  \n",
    "**Note:** Three tables are provided after the following code cell which can be used to store your results."
   ]
  },
  {
   "cell_type": "code",
   "execution_count": 37,
   "metadata": {
    "collapsed": false,
    "scrolled": true
   },
   "outputs": [
    {
     "name": "stdout",
     "output_type": "stream",
     "text": [
      "Training a LogisticRegression using a training set size of 100. . .\n",
      "Trained model in 0.0040 seconds\n",
      "Made predictions in 0.0000 seconds.\n",
      "F1 score for training set: 0.8671.\n",
      "Made predictions in 0.0120 seconds.\n",
      "F1 score for test set: 0.7068.\n",
      "Training a LogisticRegression using a training set size of 200. . .\n",
      "Trained model in 0.0040 seconds\n",
      "Made predictions in 0.0000 seconds.\n",
      "F1 score for training set: 0.8211.\n",
      "Made predictions in 0.0000 seconds.\n",
      "F1 score for test set: 0.7391.\n",
      "Training a LogisticRegression using a training set size of 300. . .\n",
      "Trained model in 0.0040 seconds\n",
      "Made predictions in 0.0000 seconds.\n",
      "F1 score for training set: 0.8512.\n",
      "Made predictions in 0.0000 seconds.\n",
      "F1 score for test set: 0.7500.\n",
      "Training a SVC using a training set size of 100. . .\n",
      "Trained model in 0.0040 seconds\n",
      "Made predictions in 0.0000 seconds.\n",
      "F1 score for training set: 0.8354.\n",
      "Made predictions in 0.0040 seconds.\n",
      "F1 score for test set: 0.8025.\n",
      "Training a SVC using a training set size of 200. . .\n",
      "Trained model in 0.0040 seconds\n",
      "Made predictions in 0.0080 seconds.\n",
      "F1 score for training set: 0.8431.\n",
      "Made predictions in 0.0040 seconds.\n",
      "F1 score for test set: 0.8105.\n",
      "Training a SVC using a training set size of 300. . .\n",
      "Trained model in 0.0080 seconds\n",
      "Made predictions in 0.0110 seconds.\n",
      "F1 score for training set: 0.8664.\n",
      "Made predictions in 0.0030 seconds.\n",
      "F1 score for test set: 0.8052.\n",
      "Training a KNeighborsClassifier using a training set size of 100. . .\n",
      "Trained model in 0.0010 seconds\n",
      "Made predictions in 0.0010 seconds.\n",
      "F1 score for training set: 0.8252.\n",
      "Made predictions in 0.0010 seconds.\n",
      "F1 score for test set: 0.7586.\n",
      "Training a KNeighborsClassifier using a training set size of 200. . .\n",
      "Trained model in 0.0000 seconds\n",
      "Made predictions in 0.0040 seconds.\n",
      "F1 score for training set: 0.8097.\n",
      "Made predictions in 0.0000 seconds.\n",
      "F1 score for test set: 0.7857.\n",
      "Training a KNeighborsClassifier using a training set size of 300. . .\n",
      "Trained model in 0.0000 seconds\n",
      "Made predictions in 0.0000 seconds.\n",
      "F1 score for training set: 0.8539.\n",
      "Made predictions in 0.0000 seconds.\n",
      "F1 score for test set: 0.8138.\n"
     ]
    }
   ],
   "source": [
    "# TODO: Import the three supervised learning models from sklearn\n",
    "# from sklearn import model_A\n",
    "# from sklearn import model_B\n",
    "# from skearln import model_C\n",
    "\n",
    "from sklearn import linear_model\n",
    "from sklearn import svm\n",
    "from sklearn.neighbors import KNeighborsClassifier\n",
    "\n",
    "# TODO: Initialize the three models\n",
    "clf_A = linear_model.LogisticRegression(random_state=42)\n",
    "clf_B = svm.SVC(random_state=42)\n",
    "clf_C = KNeighborsClassifier(n_neighbors=5)\n",
    "\n",
    "# TODO: Execute the 'train_predict' function for each classifier and each training set size\n",
    "# train_predict(clf, X_train, y_train, X_test, y_test)\n",
    "for size in [100, 200, 300]:\n",
    "    train_predict(clf_A, X_train[:size], y_train[:size], X_test, y_test)\n",
    "\n",
    "for size in [100, 200, 300]:\n",
    "    train_predict(clf_B, X_train[:size], y_train[:size], X_test, y_test)\n",
    "\n",
    "for size in [100, 200, 300]:\n",
    "    train_predict(clf_C, X_train[:size], y_train[:size], X_test, y_test)    "
   ]
  },
  {
   "cell_type": "markdown",
   "metadata": {},
   "source": [
    "### Tabular Results\n",
    "Edit the cell below to see how a table can be designed in [Markdown](https://github.com/adam-p/markdown-here/wiki/Markdown-Cheatsheet#tables). You can record your results from above in the tables provided."
   ]
  },
  {
   "cell_type": "markdown",
   "metadata": {},
   "source": [
    "** Classifer 1 - Logistic Regression**  \n",
    "\n",
    "| Training Set Size | Training Time | Prediction Time (test) | F1 Score (train) | F1 Score (test) |\n",
    "| :---------------: | :---------------------: | :--------------------: | :--------------: | :-------------: |\n",
    "| 100               |    0.0040 seconds       |      0.0120 seconds    |     0.8671       |     0.7068      |\n",
    "| 200               |    0.0040 seconds       |      0.0000 seconds    |     0.8211       |     0.7391      |\n",
    "| 300               |    0.0040 seconds       |      0.0000 seconds    |     0.8512       |     0.7500      |\n",
    "\n",
    "** Classifer 2 - Support Vector Machine**  \n",
    "\n",
    "| Training Set Size | Training Time | Prediction Time (test) | F1 Score (train) | F1 Score (test) |\n",
    "| :---------------: | :---------------------: | :--------------------: | :--------------: | :-------------: |\n",
    "| 100               |     0.0040 seconds      |      0.0040 seconds    |     0.8354       |     0.8025      |\n",
    "| 200               |     0.0040 seconds      |      0.0040 seconds    |     0.8431       |     0.8105      |\n",
    "| 300               |     0.0080 seconds      |      0.0030 seconds    |     0.8664       |     0.8052      |\n",
    "\n",
    "** Classifer 3 - K-nearest neighbors**  \n",
    "\n",
    "| Training Set Size | Training Time | Prediction Time (test) | F1 Score (train) | F1 Score (test) |\n",
    "| :---------------: | :---------------------: | :--------------------: | :--------------: | :-------------: |\n",
    "| 100               |    0.0010 seconds       |      0.0010 seconds    |     0.8252       |     0.7586      |\n",
    "| 200               |    0.0000 seconds       |      0.0000 seconds    |     0.8097       |     0.7857      |\n",
    "| 300               |    0.0000 seconds       |      0.0000 seconds    |     0.8539       |     0.8138      |"
   ]
  },
  {
   "cell_type": "markdown",
   "metadata": {},
   "source": [
    "## Choosing the Best Model\n",
    "In this final section, you will choose from the three supervised learning models the *best* model to use on the student data. You will then perform a grid search optimization for the model over the entire training set (`X_train` and `y_train`) by tuning at least one parameter to improve upon the untuned model's F<sub>1</sub> score. "
   ]
  },
  {
   "cell_type": "markdown",
   "metadata": {},
   "source": [
    "### Question 3 - Choosing the Best Model\n",
    "*Based on the experiments you performed earlier, in one to two paragraphs, explain to the board of supervisors what single model you chose as the best model. Which model is generally the most appropriate based on the available data, limited resources, cost, and performance?*"
   ]
  },
  {
   "cell_type": "markdown",
   "metadata": {},
   "source": [
    "**Answer: Given the performance on training set and test set, and keeping factors like available data, limited resources, cost and performance in mind, from all the three models which have been trained on this dataset, k-nearest neighbors classifier seems to be the best model. In terms of F1 score, k-nearest neignors generalizes well on the test set, when compared to the other models, also one important point to note will be the fact that as we increase the number of traning points from 100 to 300, the F1 score for k-nearest neighbors increases consistently for both the test set and training set, and as there is not a lot of difference in the F1 score of test set and training when compared to Logistic Regression and SVM, which indeed is an indication that out model is not overfitting. The training and prediction time that k-nearest neighbors takes is quite less if compared to the other two models we have trained, also because k-nearest neighbors as it is an instance based learning model, and requires no training what so ever. Also the dataset only consists of around 300 instances, which is a small dataset, so k-nearest neighbors is quite efficient in making predictions.** \n",
    "\n",
    "**The fact that k-nearest neighbors can be trained easily on new data as there is practically no training time required for this algorithm, makes it more suitable for an organisation like school, where most probably every year new data will be available and new model must be trained based on the incoming data, or multiple training iterations be made. K-nearest neigbor can be caliberated to avoid overfitting by choosing the number of neighnors to use in making the prediction.**"
   ]
  },
  {
   "cell_type": "markdown",
   "metadata": {},
   "source": [
    "### Question 4 - Model in Layman's Terms\n",
    "*In one to two paragraphs, explain to the board of directors in layman's terms how the final model chosen is supposed to work. Be sure that you are describing the major qualities of the model, such as how the model is trained and how the model makes a prediction. Avoid using advanced mathematical or technical jargon, such as describing equations or discussing the algorithm implementation.*"
   ]
  },
  {
   "cell_type": "markdown",
   "metadata": {},
   "source": [
    "**Answer: We have trained a k-nearest neighbors classifier on the dataset we were given. All the training data, with all it's features was fed to the k-nearest neighbors model. As k-nearest model is an instance based learning model, so it doesn't generate a function like other candidate model we were considering like Logistic Regression and SVM, it rather stores all the traning data in the memory. So, in instance based learning the whole traning data becomes the function, to which it has to fit the incoming data points.(https://storage.googleapis.com/supplemental_media/udacityu/5446988865/Instance%20Based%20Learning.pdf) So, when to k-nearest neighbors you feed the data of some new student with all the features (in a romantic relations or not, has internet connection or not, number of failures, absences etc.) for which you don't know whether he is likely to graduate or not. The k-nearest neighbors compares it to the other students from the training data depending upon a similarity metric (d), we can define the number of neighbors (students) which should be voting in order to classify this new student. So, what it actually means is, the students who are most similar in terms of traits(features) to this new student from the training data, will vote based on their classification (they graduated or failed), and the class which dominates in the voting will be assigned to this new student. In case of a tie, there are ways in which the tie can be broken, for example by using weighted voting we can resolve ties, the student who is very similar in traits to the new student will be assigned a higher weight when it come to counting the vote.**"
   ]
  },
  {
   "cell_type": "markdown",
   "metadata": {},
   "source": [
    "### Implementation: Model Tuning\n",
    "Fine tune the chosen model. Use grid search (`GridSearchCV`) with at least one important parameter tuned with at least 3 different values. You will need to use the entire training set for this. In the code cell below, you will need to implement the following:\n",
    "- Import [`sklearn.grid_search.gridSearchCV`](http://scikit-learn.org/stable/modules/generated/sklearn.grid_search.GridSearchCV.html) and [`sklearn.metrics.make_scorer`](http://scikit-learn.org/stable/modules/generated/sklearn.metrics.make_scorer.html).\n",
    "- Create a dictionary of parameters you wish to tune for the chosen model.\n",
    " - Example: `parameters = {'parameter' : [list of values]}`.\n",
    "- Initialize the classifier you've chosen and store it in `clf`.\n",
    "- Create the F<sub>1</sub> scoring function using `make_scorer` and store it in `f1_scorer`.\n",
    " - Set the `pos_label` parameter to the correct value!\n",
    "- Perform grid search on the classifier `clf` using `f1_scorer` as the scoring method, and store it in `grid_obj`.\n",
    "- Fit the grid search object to the training data (`X_train`, `y_train`), and store it in `grid_obj`."
   ]
  },
  {
   "cell_type": "code",
   "execution_count": 56,
   "metadata": {
    "collapsed": false
   },
   "outputs": [
    {
     "name": "stdout",
     "output_type": "stream",
     "text": [
      "KNeighborsClassifier(algorithm='brute', leaf_size=30, metric='minkowski',\n",
      "           metric_params=None, n_jobs=1, n_neighbors=25, p=2,\n",
      "           weights='uniform')\n",
      "Made predictions in 0.0000 seconds.\n",
      "Tuned model has a training F1 score of 0.8206.\n",
      "Made predictions in 0.0000 seconds.\n",
      "Tuned model has a testing F1 score of 0.8101.\n"
     ]
    }
   ],
   "source": [
    "# TODO: Import 'GridSearchCV' and 'make_scorer'\n",
    "from sklearn.neighbors import KNeighborsClassifier\n",
    "from sklearn.grid_search import GridSearchCV\n",
    "from sklearn.metrics import make_scorer\n",
    "\n",
    "# TODO: Create the parameters list you wish to tune\n",
    "parameters = {'n_neighbors': [1, 3, 5, 10, 20, 25], 'algorithm': ['auto', 'ball_tree', 'kd_tree', 'brute']}\n",
    "\n",
    "# TODO: Initialize the classifier\n",
    "clf = KNeighborsClassifier()\n",
    "\n",
    "# TODO: Make an f1 scoring function using 'make_scorer' \n",
    "f1_scorer = make_scorer(f1_score, pos_label=\"yes\")\n",
    "\n",
    "# TODO: Perform grid search on the classifier using the f1_scorer as the scoring method\n",
    "grid_obj = GridSearchCV(clf, parameters, f1_scorer)\n",
    "\n",
    "# TODO: Fit the grid search object to the training data and find the optimal parameters\n",
    "grid_obj = grid_obj.fit(X_train, y_train)\n",
    "\n",
    "# Get the estimator\n",
    "clf = grid_obj.best_estimator_\n",
    "print clf\n",
    "# Report the final F1 score for training and testing after parameter tuning\n",
    "print \"Tuned model has a training F1 score of {:.4f}.\".format(predict_labels(clf, X_train, y_train))\n",
    "print \"Tuned model has a testing F1 score of {:.4f}.\".format(predict_labels(clf, X_test, y_test))"
   ]
  },
  {
   "cell_type": "markdown",
   "metadata": {},
   "source": [
    "### Question 5 - Final F<sub>1</sub> Score\n",
    "*What is the final model's F<sub>1</sub> score for training and testing? How does that score compare to the untuned model?*"
   ]
  },
  {
   "cell_type": "markdown",
   "metadata": {},
   "source": [
    "**Answer: The models's final F1 score for training set is 0.8206 and for testing set is 0.8101, which is very close to the F1 score we got in the untuned model. **"
   ]
  },
  {
   "cell_type": "markdown",
   "metadata": {},
   "source": [
    "> **Note**: Once you have completed all of the code implementations and successfully answered each question above, you may finalize your work by exporting the iPython Notebook as an HTML document. You can do this by using the menu above and navigating to  \n",
    "**File -> Download as -> HTML (.html)**. Include the finished document along with this notebook as your submission."
   ]
  }
 ],
 "metadata": {
  "anaconda-cloud": {},
  "kernelspec": {
   "display_name": "Python [udacity]",
   "language": "python",
   "name": "Python [udacity]"
  },
  "language_info": {
   "codemirror_mode": {
    "name": "ipython",
    "version": 2
   },
   "file_extension": ".py",
   "mimetype": "text/x-python",
   "name": "python",
   "nbconvert_exporter": "python",
   "pygments_lexer": "ipython2",
   "version": "2.7.12"
  }
 },
 "nbformat": 4,
 "nbformat_minor": 0
}
